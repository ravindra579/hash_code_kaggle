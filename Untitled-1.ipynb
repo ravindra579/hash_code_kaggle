{
 "metadata": {
  "language_info": {
   "codemirror_mode": {
    "name": "ipython",
    "version": 3
   },
   "file_extension": ".py",
   "mimetype": "text/x-python",
   "name": "python",
   "nbconvert_exporter": "python",
   "pygments_lexer": "ipython3",
   "version": "3.8.3-final"
  },
  "orig_nbformat": 2,
  "kernelspec": {
   "name": "python_defaultSpec_1600167043903",
   "display_name": "Python 3.8.3 64-bit"
  }
 },
 "nbformat": 4,
 "nbformat_minor": 2,
 "cells": [
  {
   "cell_type": "code",
   "execution_count": null,
   "metadata": {},
   "outputs": [],
   "source": [
    "import os\n",
    "file_path=\"C:/Users/ravin/Documents/hashcode-drone-delivery/pro.txt\"\n",
    "file=open(file_path,\"r\")\n",
    "text=file.read()\n",
    "file.close"
   ]
  },
  {
   "cell_type": "code",
   "execution_count": null,
   "metadata": {
    "tags": [
     "outputPrepend"
    ]
   },
   "outputs": [],
   "source": [
    "print(text)"
   ]
  },
  {
   "cell_type": "code",
   "execution_count": null,
   "metadata": {},
   "outputs": [],
   "source": [
    "a=text.splitlines()"
   ]
  },
  {
   "cell_type": "code",
   "execution_count": null,
   "metadata": {
    "tags": [
     "outputPrepend"
    ]
   },
   "outputs": [],
   "source": [
    "print(a)"
   ]
  },
  {
   "cell_type": "code",
   "execution_count": null,
   "metadata": {
    "tags": []
   },
   "outputs": [],
   "source": [
    "print(a[0])"
   ]
  },
  {
   "cell_type": "code",
   "execution_count": null,
   "metadata": {},
   "outputs": [],
   "source": [
    "a[4]"
   ]
  },
  {
   "cell_type": "code",
   "execution_count": null,
   "metadata": {
    "tags": []
   },
   "outputs": [],
   "source": [
    "warehouse_locations=a[4:24:2]\n",
    "print(warehouse_locations)"
   ]
  },
  {
   "cell_type": "code",
   "execution_count": null,
   "metadata": {},
   "outputs": [],
   "source": [
    "ware_house_x = [b.split()[0] for b in warehouse_locations]\n",
    "ware_house_y = [b.split()[1] for b in warehouse_locations]"
   ]
  },
  {
   "cell_type": "code",
   "execution_count": null,
   "metadata": {},
   "outputs": [],
   "source": [
    "num_products=a[5:25:2]"
   ]
  },
  {
   "cell_type": "code",
   "execution_count": null,
   "metadata": {},
   "outputs": [],
   "source": [
    "num_products[0]"
   ]
  },
  {
   "cell_type": "code",
   "execution_count": null,
   "metadata": {},
   "outputs": [],
   "source": [
    "import pandas as pd"
   ]
  },
  {
   "cell_type": "code",
   "execution_count": null,
   "metadata": {},
   "outputs": [],
   "source": [
    "products_df = pd.DataFrame([x.split() for x in a[5:24:2]])"
   ]
  },
  {
   "cell_type": "code",
   "execution_count": 97,
   "metadata": {},
   "outputs": [],
   "source": [
    "mn=pd.DataFrame([x for x in range(18738)])"
   ]
  },
  {
   "cell_type": "code",
   "execution_count": 101,
   "metadata": {},
   "outputs": [
    {
     "output_type": "execute_result",
     "data": {
      "text/plain": "0    1\nName: 0, dtype: int64"
     },
     "metadata": {},
     "execution_count": 101
    }
   ],
   "source": [
    "mn.loc[0]"
   ]
  },
  {
   "cell_type": "code",
   "execution_count": null,
   "metadata": {
    "tags": []
   },
   "outputs": [],
   "source": [
    "print(products_df)"
   ]
  },
  {
   "cell_type": "code",
   "execution_count": null,
   "metadata": {},
   "outputs": [],
   "source": [
    "ware_house_table=products_df.T"
   ]
  },
  {
   "cell_type": "code",
   "execution_count": null,
   "metadata": {},
   "outputs": [],
   "source": [
    "cols=[f'w{i}' for i in range(10)]"
   ]
  },
  {
   "cell_type": "code",
   "execution_count": null,
   "metadata": {},
   "outputs": [],
   "source": [
    "ware_house_table.columns=cols"
   ]
  },
  {
   "cell_type": "code",
   "execution_count": null,
   "metadata": {},
   "outputs": [],
   "source": [
    "ware_house_table=ware_house_table[0:]"
   ]
  },
  {
   "cell_type": "code",
   "execution_count": null,
   "metadata": {},
   "outputs": [],
   "source": [
    "ware_house_table"
   ]
  },
  {
   "cell_type": "code",
   "execution_count": null,
   "metadata": {},
   "outputs": [],
   "source": [
    "product_weights=a[2].split()"
   ]
  },
  {
   "cell_type": "code",
   "execution_count": null,
   "metadata": {},
   "outputs": [],
   "source": [
    "import csv"
   ]
  },
  {
   "cell_type": "code",
   "execution_count": null,
   "metadata": {},
   "outputs": [],
   "source": [
    "ware_house_table"
   ]
  },
  {
   "cell_type": "code",
   "execution_count": null,
   "metadata": {},
   "outputs": [],
   "source": [
    "ware_house_table.to_csv(\"ware_house.csv\")"
   ]
  },
  {
   "cell_type": "code",
   "execution_count": null,
   "metadata": {},
   "outputs": [],
   "source": [
    "coordinates=a[25:3780:3]"
   ]
  },
  {
   "cell_type": "code",
   "execution_count": null,
   "metadata": {
    "tags": []
   },
   "outputs": [],
   "source": [
    "print(coordinates[0])"
   ]
  },
  {
   "cell_type": "code",
   "execution_count": null,
   "metadata": {},
   "outputs": [],
   "source": [
    "num_items=a[26:3780:3]"
   ]
  },
  {
   "cell_type": "code",
   "execution_count": null,
   "metadata": {
    "tags": []
   },
   "outputs": [],
   "source": [
    "print(num_items[0])"
   ]
  },
  {
   "cell_type": "code",
   "execution_count": null,
   "metadata": {},
   "outputs": [],
   "source": [
    "items=a[27:3780:3]"
   ]
  },
  {
   "cell_type": "code",
   "execution_count": null,
   "metadata": {
    "tags": []
   },
   "outputs": [],
   "source": []
  },
  {
   "cell_type": "code",
   "execution_count": null,
   "metadata": {},
   "outputs": [],
   "source": [
    "import pandas as pd"
   ]
  },
  {
   "cell_type": "code",
   "execution_count": null,
   "metadata": {},
   "outputs": [],
   "source": [
    "items_df = pd.DataFrame([x.split() for x in a[27:3780:3]])"
   ]
  },
  {
   "cell_type": "code",
   "execution_count": null,
   "metadata": {},
   "outputs": [],
   "source": [
    "items_df"
   ]
  },
  {
   "cell_type": "code",
   "execution_count": null,
   "metadata": {},
   "outputs": [],
   "source": [
    "column=[f'item{i}' for i in range(19) ]"
   ]
  },
  {
   "cell_type": "code",
   "execution_count": null,
   "metadata": {},
   "outputs": [],
   "source": [
    "items_df.columns=column"
   ]
  },
  {
   "cell_type": "code",
   "execution_count": null,
   "metadata": {},
   "outputs": [],
   "source": [
    "items_df.head(5)"
   ]
  },
  {
   "cell_type": "code",
   "execution_count": null,
   "metadata": {
    "tags": []
   },
   "outputs": [],
   "source": [
    "for i in range(1250):\n",
    " if items_df[\"item17\"][i] is None :\n",
    "    items_df[\"item17\"][i]=0"
   ]
  },
  {
   "cell_type": "code",
   "execution_count": null,
   "metadata": {},
   "outputs": [],
   "source": [
    "items_df"
   ]
  },
  {
   "cell_type": "code",
   "execution_count": null,
   "metadata": {},
   "outputs": [],
   "source": [
    "items_df[\"num_weights\"]=num_items"
   ]
  },
  {
   "cell_type": "code",
   "execution_count": null,
   "metadata": {},
   "outputs": [],
   "source": [
    "items_df"
   ]
  },
  {
   "cell_type": "code",
   "execution_count": null,
   "metadata": {},
   "outputs": [],
   "source": [
    "user_x_coordinate = [b.split()[0] for b in coordinates]\n",
    "ware_y_coordinate = [b.split()[1] for b in coordinates]"
   ]
  },
  {
   "cell_type": "code",
   "execution_count": null,
   "metadata": {
    "tags": []
   },
   "outputs": [],
   "source": [
    "print(user_x_coordinate)"
   ]
  },
  {
   "cell_type": "code",
   "execution_count": null,
   "metadata": {},
   "outputs": [],
   "source": [
    "items_df[\"x\"]=user_x_coordinate"
   ]
  },
  {
   "cell_type": "code",
   "execution_count": null,
   "metadata": {},
   "outputs": [],
   "source": [
    "items_df[\"y\"]=ware_y_coordinate"
   ]
  },
  {
   "cell_type": "code",
   "execution_count": null,
   "metadata": {},
   "outputs": [],
   "source": [
    "items_df"
   ]
  },
  {
   "cell_type": "code",
   "execution_count": null,
   "metadata": {},
   "outputs": [],
   "source": [
    "items_df.to_csv(\"users.csv\")"
   ]
  },
  {
   "cell_type": "code",
   "execution_count": null,
   "metadata": {},
   "outputs": [],
   "source": [
    "import numpy as np\n",
    "import pandas as pd"
   ]
  },
  {
   "cell_type": "code",
   "execution_count": null,
   "metadata": {},
   "outputs": [],
   "source": [
    "users=pd.read_csv(\"C:/Users/ravin/Documents/hashcode-drone-delivery/users.csv\")"
   ]
  },
  {
   "cell_type": "code",
   "execution_count": null,
   "metadata": {},
   "outputs": [],
   "source": [
    "ware=pd.read_csv(\"C:/Users/ravin/Documents/hashcode-drone-delivery/ware_house.csv\")"
   ]
  },
  {
   "cell_type": "code",
   "execution_count": null,
   "metadata": {},
   "outputs": [],
   "source": [
    "users.x[0]"
   ]
  },
  {
   "cell_type": "code",
   "execution_count": null,
   "metadata": {},
   "outputs": [],
   "source": [
    "users.y[0]"
   ]
  },
  {
   "cell_type": "code",
   "execution_count": null,
   "metadata": {},
   "outputs": [],
   "source": [
    "def dist(x,y,x2,y2):\n",
    "     p=(x-x2)*(x-x2)\n",
    "     q=(y-y2)*(y-y2)\n",
    "     r=p+q\n",
    "     s=np.sqrt(r)\n",
    "     return s"
   ]
  },
  {
   "cell_type": "code",
   "execution_count": null,
   "metadata": {},
   "outputs": [],
   "source": [
    "x1=[]\n",
    "x1=ware.loc[400]\n",
    "y1=[]\n",
    "y1=ware.loc[401]"
   ]
  },
  {
   "cell_type": "code",
   "execution_count": null,
   "metadata": {},
   "outputs": [],
   "source": [
    "x1[1]"
   ]
  },
  {
   "cell_type": "code",
   "execution_count": null,
   "metadata": {
    "tags": []
   },
   "outputs": [],
   "source": [
    "x=[]\n",
    "y=[]\n",
    "for j in range(1250):\n",
    "  n=dist(users.x[j],users.y[j],x1[1],y1[1])\n",
    "  p=x1[1]\n",
    "  q=y1[1]\n",
    "  for i in range(9):\n",
    "    m=dist(users.x[j],users.y[j],x1[i+2],y1[i+2])\n",
    "    if(n>m):\n",
    "        p=x1[i+2]\n",
    "        q=y1[i+2]\n",
    "        n=m\n",
    "  x.append(p)\n",
    "  y.append(q)"
   ]
  },
  {
   "cell_type": "code",
   "execution_count": null,
   "metadata": {},
   "outputs": [],
   "source": [
    "df=pd.read_csv(\"C:/Users/ravin/Documents/hashcode-drone-delivery/users.csv\")"
   ]
  },
  {
   "cell_type": "code",
   "execution_count": null,
   "metadata": {},
   "outputs": [],
   "source": [
    "df[\"x2\"]=x"
   ]
  },
  {
   "cell_type": "code",
   "execution_count": null,
   "metadata": {},
   "outputs": [],
   "source": [
    "df[\"y2\"]=y"
   ]
  },
  {
   "cell_type": "code",
   "execution_count": null,
   "metadata": {},
   "outputs": [],
   "source": [
    "df.to_csv(\"users_1.csv\")"
   ]
  },
  {
   "cell_type": "code",
   "execution_count": null,
   "metadata": {},
   "outputs": [],
   "source": [
    "import pandas as pd\n",
    "import numpy as np"
   ]
  },
  {
   "cell_type": "code",
   "execution_count": null,
   "metadata": {},
   "outputs": [],
   "source": [
    "df=pd.read_csv(\"C:/Users/ravin/Documents/hashcode-drone-delivery/users_1.csv\")"
   ]
  },
  {
   "cell_type": "code",
   "execution_count": null,
   "metadata": {},
   "outputs": [],
   "source": [
    "df1=pd.read_csv(\"C:/Users/ravin/Documents/hashcode-drone-delivery/ware_house.csv\")"
   ]
  },
  {
   "cell_type": "code",
   "execution_count": null,
   "metadata": {},
   "outputs": [],
   "source": [
    "user_1=df.loc[0]"
   ]
  },
  {
   "cell_type": "code",
   "execution_count": null,
   "metadata": {},
   "outputs": [],
   "source": [
    "user_1"
   ]
  },
  {
   "cell_type": "code",
   "execution_count": null,
   "metadata": {},
   "outputs": [],
   "source": [
    "x1=[]\n",
    "x1=df1.loc[400]\n",
    "y1=[]\n",
    "y1=df1.loc[401]"
   ]
  },
  {
   "cell_type": "code",
   "execution_count": null,
   "metadata": {},
   "outputs": [],
   "source": [
    "x2=df[\"x2\"]"
   ]
  },
  {
   "cell_type": "code",
   "execution_count": null,
   "metadata": {},
   "outputs": [],
   "source": [
    "x2[1249]"
   ]
  },
  {
   "cell_type": "code",
   "execution_count": null,
   "metadata": {
    "tags": []
   },
   "outputs": [],
   "source": [
    "a=[]\n",
    "for i in range(1250):\n",
    "    if x2[i] == 113:\n",
    "      a.append(1)   \n",
    "    if x2[i] == 234:\n",
    "      a.append(2)  \n",
    "    if x2[i] == 195:\n",
    "      a.append(3)  \n",
    "    if x2[i] == 215:\n",
    "      a.append(4)  \n",
    "    if x2[i] == 220:\n",
    "      a.append(5)  \n",
    "    if x2[i] == 182:\n",
    "      a.append(6) \n",
    "    if x2[i] == 75:\n",
    "      a.append(7) \n",
    "    if x2[i] == 228:\n",
    "      a.append(8) \n",
    "    if x2[i] == 310:\n",
    "      a.append(9) \n",
    "    if x2[i] == 297:\n",
    "      a.append(10)  "
   ]
  },
  {
   "cell_type": "code",
   "execution_count": null,
   "metadata": {},
   "outputs": [],
   "source": [
    "df[\"num\"]=a"
   ]
  },
  {
   "cell_type": "code",
   "execution_count": null,
   "metadata": {},
   "outputs": [],
   "source": [
    "df.to_csv(\"user_1.csv\")"
   ]
  },
  {
   "cell_type": "code",
   "execution_count": null,
   "metadata": {},
   "outputs": [],
   "source": [
    "user_1=df.loc[0]"
   ]
  },
  {
   "cell_type": "code",
   "execution_count": null,
   "metadata": {},
   "outputs": [],
   "source": [
    "user_1"
   ]
  },
  {
   "cell_type": "code",
   "execution_count": null,
   "metadata": {},
   "outputs": [],
   "source": [
    "ware=df1.w9"
   ]
  },
  {
   "cell_type": "code",
   "execution_count": null,
   "metadata": {},
   "outputs": [],
   "source": [
    "ware"
   ]
  },
  {
   "cell_type": "code",
   "execution_count": null,
   "metadata": {},
   "outputs": [],
   "source": [
    "ware[0]"
   ]
  },
  {
   "cell_type": "code",
   "execution_count": null,
   "metadata": {},
   "outputs": [],
   "source": [
    "for i in range(19):\n",
    "    "
   ]
  },
  {
   "cell_type": "code",
   "execution_count": null,
   "metadata": {},
   "outputs": [],
   "source": []
  },
  {
   "cell_type": "code",
   "execution_count": 3,
   "metadata": {},
   "outputs": [],
   "source": [
    "import pandas as pd \n",
    "import numpy as np"
   ]
  },
  {
   "cell_type": "code",
   "execution_count": 30,
   "metadata": {},
   "outputs": [],
   "source": [
    "df_user=pd.read_csv(\"C:/Users/ravin/Documents/hashcode-drone-delivery/user_6.csv\")"
   ]
  },
  {
   "cell_type": "code",
   "execution_count": 31,
   "metadata": {},
   "outputs": [],
   "source": [
    "df_ware=pd.read_csv(\"C:/Users/ravin/Documents/hashcode-drone-delivery/ware_house_5.csv\")"
   ]
  },
  {
   "cell_type": "code",
   "execution_count": 4,
   "metadata": {},
   "outputs": [],
   "source": [
    "l=df_user.num[0]"
   ]
  },
  {
   "cell_type": "code",
   "execution_count": 5,
   "metadata": {},
   "outputs": [
    {
     "output_type": "execute_result",
     "data": {
      "text/plain": "10"
     },
     "metadata": {},
     "execution_count": 5
    }
   ],
   "source": [
    "l"
   ]
  },
  {
   "cell_type": "code",
   "execution_count": 109,
   "metadata": {},
   "outputs": [],
   "source": [
    "d=df_user.ten"
   ]
  },
  {
   "cell_type": "code",
   "execution_count": 47,
   "metadata": {},
   "outputs": [],
   "source": [
    "k=df_user.loc[0]"
   ]
  },
  {
   "cell_type": "code",
   "execution_count": 49,
   "metadata": {},
   "outputs": [
    {
     "output_type": "execute_result",
     "data": {
      "text/plain": "0"
     },
     "metadata": {},
     "execution_count": 49
    }
   ],
   "source": [
    "k[0]"
   ]
  },
  {
   "cell_type": "code",
   "execution_count": 110,
   "metadata": {},
   "outputs": [],
   "source": [
    "k=[]\n",
    "m=[]\n",
    "s=186\n",
    "for j in range(1250):\n",
    " l=[]\n",
    " k=df_user.loc[j]\n",
    " if d[j]==\"w0\":\n",
    "    for i in range(20):\n",
    "        if k[i+s] ==\"no\":\n",
    "            if  k[i+1]!=0 and df_ware.w0[k[i+1]-1] !=0:\n",
    "                df_ware.w0[k[i+1]-1] = df_ware.w0[k[i+1]-1] -1\n",
    "                l.append(\"yes\")\n",
    "            else:\n",
    "                l.append(\"no\")\n",
    "        elif k[i+s] ==\"yes\":\n",
    "            l.append(\"+\")\n",
    "        elif k[i+s]==\"+\":\n",
    "            l.append(\"+\")\n",
    "        else:\n",
    "            l.append(\"-\")\n",
    " if d[j]==\"w1\":\n",
    "    for i in range(20):\n",
    "        if k[i+s] ==\"no\":\n",
    "            if k[i+1]!=0 and  df_ware.w1[k[i+1]-1] !=0:\n",
    "                l.append(\"yes\")\n",
    "                df_ware.w1[k[i+1]-1] = df_ware.w1[k[i+1]-1] -1\n",
    "            else:\n",
    "                l.append(\"no\")\n",
    "        elif k[i+s] ==\"yes\":\n",
    "            l.append(\"+\")\n",
    "        elif k[i+s]==\"+\":\n",
    "            l.append(\"+\")\n",
    "        else:\n",
    "            l.append(\"-\")\n",
    " if d[j]==\"w2\":\n",
    "    for i in range(20):\n",
    "        if k[i+s] ==\"no\":\n",
    "            if k[i+1]!=0 and df_ware.w2[k[i+1]-1] !=0:\n",
    "                l.append(\"yes\")\n",
    "                df_ware.w2[k[i+1]-1] = df_ware.w2[k[i+1]-1] -1\n",
    "            else:\n",
    "                l.append(\"no\")\n",
    "        elif k[i+s] ==\"yes\":\n",
    "            l.append(\"+\")\n",
    "        elif k[i+s]==\"+\":\n",
    "            l.append(\"+\")\n",
    "        else:\n",
    "            l.append(\"-\")\n",
    " if d[j]==\"w3\":\n",
    "    for i in range(20):\n",
    "        if k[i+s] ==\"no\":\n",
    "            if k[i+1]!=0 and df_ware.w3[k[i+1]-1] !=0:\n",
    "                l.append(\"yes\")\n",
    "                df_ware.w3[k[i+1]-1] = df_ware.w3[k[i+1]-1] -1\n",
    "            else:\n",
    "                l.append(\"no\")\n",
    "        elif k[i+s] ==\"yes\":\n",
    "            l.append(\"+\")\n",
    "        elif k[i+s]==\"+\":\n",
    "            l.append(\"+\")\n",
    "        else:\n",
    "            l.append(\"-\")\n",
    " if d[j]==\"w4\":\n",
    "    for i in range(20):\n",
    "        if k[i+s] ==\"no\":\n",
    "            if k[i+1]!=0 and df_ware.w4[k[i+1]-1] !=0:\n",
    "                l.append(\"yes\")\n",
    "                df_ware.w4[k[i+1]-1] = df_ware.w4[k[i+1]-1] -1\n",
    "            else:\n",
    "                l.append(\"no\")\n",
    "        elif k[i+s] ==\"yes\":\n",
    "            l.append(\"+\")\n",
    "        elif k[i+s]==\"+\":\n",
    "            l.append(\"+\")\n",
    "        else:\n",
    "            l.append(\"-\")\n",
    " if d[j]==\"w5\":\n",
    "    for i in range(20):\n",
    "        if k[i+s] ==\"no\":\n",
    "            if k[i+1]!=0 and df_ware.w5[k[i+1]-1] !=0:\n",
    "                l.append(\"yes\")\n",
    "                df_ware.w5[k[i+1]-1] = df_ware.w5[k[i+1]-1] -1\n",
    "            else:\n",
    "                l.append(\"no\")\n",
    "        elif k[i+s] ==\"yes\":\n",
    "            l.append(\"+\")\n",
    "        elif k[i+s]==\"+\":\n",
    "            l.append(\"+\")\n",
    "        else:\n",
    "            l.append(\"-\")\n",
    " if d[j]==\"w6\":\n",
    "    for i in range(20):\n",
    "        if k[i+s] ==\"no\":\n",
    "            if k[i+1]!=0 and df_ware.w6[k[i+1]-1] !=0:\n",
    "                l.append(\"yes\")\n",
    "                df_ware.w6[k[i+1]-1] = df_ware.w6[k[i+1]-1] -1\n",
    "            else:\n",
    "                l.append(\"no\")\n",
    "        elif k[i+s] ==\"yes\":\n",
    "            l.append(\"+\")\n",
    "        elif k[i+s]==\"+\":\n",
    "            l.append(\"+\")\n",
    "        else:\n",
    "            l.append(\"-\")\n",
    " if d[j]==\"w7\":\n",
    "    for i in range(20):\n",
    "        if k[i+s] ==\"no\":\n",
    "            if k[i+1]!=0 and df_ware.w7[k[i+1]-1] !=0:\n",
    "                l.append(\"yes\")\n",
    "                df_ware.w7[k[i+1]-1] = df_ware.w7[k[i+1]-1] -1\n",
    "            else:\n",
    "                l.append(\"no\")\n",
    "        elif k[i+s] ==\"yes\":\n",
    "            l.append(\"+\")\n",
    "        elif k[i+s]==\"+\":\n",
    "            l.append(\"+\")\n",
    "        else:\n",
    "            l.append(\"-\")\n",
    " if d[j]==\"w8\":\n",
    "    for i in range(20):\n",
    "        if k[i+s] ==\"no\":\n",
    "            if k[i+1]!=0 and df_ware.w8[k[i+1]-1] !=0:\n",
    "                l.append(\"yes\")\n",
    "                df_ware.w8[k[i+1]-1] = df_ware.w8[k[i+1]-1] -1\n",
    "            else:\n",
    "                l.append(\"no\")\n",
    "        elif k[i+s] ==\"yes\":\n",
    "            l.append(\"+\")\n",
    "        elif k[i+s]==\"+\":\n",
    "            l.append(\"+\")\n",
    "        else:\n",
    "            l.append(\"-\")\n",
    " if d[j]==\"w9\":\n",
    "    for i in range(20):\n",
    "        if k[i+s] ==\"no\":\n",
    "            if k[i+1]!=0 and df_ware.w9[k[i+1]-1] !=0:\n",
    "                l.append(\"yes\")\n",
    "                df_ware.w9[k[i+1]-1] = df_ware.w9[k[i+1]-1] -1\n",
    "            else:\n",
    "                l.append(\"no\")\n",
    "        elif k[i+s] ==\"yes\":\n",
    "            l.append(\"+\")\n",
    "        elif k[i+s]==\"+\":\n",
    "            l.append(\"+\")\n",
    "        else:\n",
    "            l.append(\"-\")\n",
    " m.append(l)"
   ]
  },
  {
   "cell_type": "code",
   "execution_count": 43,
   "metadata": {
    "tags": []
   },
   "outputs": [],
   "source": [
    "n=[]\n",
    "for i in range(1250):\n",
    " l=df_user.num[i]\n",
    " r=df_user.num_weights[i]\n",
    " u=[]\n",
    " if l==1:\n",
    "   m=df_user.loc[i]\n",
    "   for i in range(20):\n",
    "    if i < r:\n",
    "     if m[i+1]!=0 and df_ware.w0[m[i+1]-1] !=0:\n",
    "         u.append(\"yes\")\n",
    "         df_ware.w0[m[i+1]-1] = df_ware.w0[m[i+1]-1] -1\n",
    "     else:\n",
    "         u.append(\"no\")\n",
    "    else:\n",
    "         u.append(\"-\")\n",
    " if l==2:\n",
    "   m=df_user.loc[i]\n",
    "   for i in range(19):\n",
    "    if i < r:\n",
    "     if m[i+1]!=0 and df_ware.w1[m[i+1]-1] !=0:\n",
    "         u.append(\"yes\")\n",
    "         df_ware.w1[m[i+1]-1] = df_ware.w1[m[i+1]-1] -1\n",
    "     else:\n",
    "         u.append(\"no\")\n",
    "    else:\n",
    "         u.append(\"-\")\n",
    " if l==3:\n",
    "   m=df_user.loc[i]\n",
    "   for i in range(19):\n",
    "    if i < r:\n",
    "     if m[i+1]!=0 and df_ware.w2[m[i+1]-1] !=0:\n",
    "         u.append(\"yes\")\n",
    "         df_ware.w2[m[i+1]-1] = df_ware.w2[m[i+1]-1] -1\n",
    "     else:\n",
    "         u.append(\"no\")\n",
    "    else:\n",
    "         u.append(\"-\")\n",
    " if l==4:\n",
    "   m=df_user.loc[i]\n",
    "   for i in range(19):\n",
    "    if i<r: \n",
    "     if m[i+1]!=0 and df_ware.w3[m[i+1]-1] !=0:\n",
    "         u.append(\"yes\")\n",
    "         df_ware.w3[m[i+1]-1] = df_ware.w3[m[i+1]-1] -1\n",
    "     else:\n",
    "         u.append(\"no\")\n",
    "    else:\n",
    "         u.append(\"-\")\n",
    " if l==5:\n",
    "   m=df_user.loc[i]\n",
    "   for i in range(19):\n",
    "    if i < r:\n",
    "     if m[i+1]!=0 and df_ware.w4[m[i+1]-1] !=0:\n",
    "         u.append(\"yes\")\n",
    "         df_ware.w4[m[i+1]-1] = df_ware.w4[m[i+1]-1] -1\n",
    "     else:\n",
    "         u.append(\"no\")\n",
    "    else:\n",
    "         u.append(\"-\")\n",
    " if l==6:\n",
    "   m=df_user.loc[i]\n",
    "   for i in range(19):\n",
    "    if i<r:\n",
    "     if m[i+1]!=0 and df_ware.w5[m[i+1]-1] !=0:\n",
    "        df_ware.w5[m[i+1]-1] = df_ware.w5[m[i+1]-1] -1\n",
    "        u.append(\"yes\")\n",
    "     else:\n",
    "         u.append(\"no\")\n",
    "    else:\n",
    "         u.append(\"-\")\n",
    " if l==7:\n",
    "   m=df_user.loc[i]\n",
    "   for i in range(19):\n",
    "    if i<r:\n",
    "     if m[i+1]!=0 and df_ware.w6[m[i+1]-1] !=0:\n",
    "         u.append(\"yes\")\n",
    "         df_ware.w6[m[i+1]-1] = df_ware.w6[m[i+1]-1] -1\n",
    "     else:\n",
    "         u.append(\"no\")\n",
    "    else:\n",
    "         u.append(\"-\")\n",
    " if l==8:\n",
    "   m=df_user.loc[i]\n",
    "   for i in range(19):\n",
    "    if i< r:\n",
    "     if m[i+1]!=0 and df_ware.w7[m[i+1]-1] !=0:\n",
    "         u.append(\"yes\")\n",
    "         df_ware.w7[m[i+1]-1] = df_ware.w7[m[i+1]-1] -1\n",
    "     else:\n",
    "         u.append(\"no\")\n",
    "    else:\n",
    "         u.append(\"-\")\n",
    " if l==9:\n",
    "   m=df_user.loc[i]\n",
    "   for i in range(19):\n",
    "    if i<r:\n",
    "     if m[i+1]!=0 and df_ware.w8[m[i+1]-1] !=0:\n",
    "         u.append(\"yes\")\n",
    "         df_ware.w8[m[i+1]-1] = df_ware.w8[m[i+1]-1] -1\n",
    "     else:\n",
    "         u.append(\"no\")\n",
    "    else:\n",
    "         u.append(\"-\")\n",
    " if l==10:\n",
    "   m=df_user.loc[i]\n",
    "   for i in range(19):\n",
    "     if i<r: \n",
    "      if m[i+1]!=0 and df_ware.w9[m[i+1]-1] !=0:\n",
    "         u.append(\"yes\")\n",
    "         df_ware.w9[m[i+1]-1] = df_ware.w9[m[i+1]-1] -1\n",
    "      else:\n",
    "         u.append(\"no\")\n",
    "     else:\n",
    "          u.append(\"-\")    \n",
    " n.append(u)       "
   ]
  },
  {
   "cell_type": "code",
   "execution_count": 6,
   "metadata": {
    "tags": []
   },
   "outputs": [],
   "source": [
    "df_user[\"item_0_a\"]=0\n",
    "df_user[\"item_1_a\"]=0\n",
    "df_user[\"item_2_a\"]=0\n",
    "df_user[\"item_3_a\"]=0\n",
    "df_user[\"item_4_a\"]=0\n",
    "df_user[\"item_5_a\"]=0\n",
    "df_user[\"item_6_a\"]=0\n",
    "df_user[\"item_7_a\"]=0\n",
    "df_user[\"item_8_a\"]=0\n",
    "df_user[\"item_9_a\"]=0\n",
    "df_user[\"item_10_a\"]=0\n",
    "df_user[\"item_11_a\"]=0\n",
    "df_user[\"item_12_a\"]=0\n",
    "df_user[\"item_13_a\"]=0\n",
    "df_user[\"item_14_a\"]=0\n",
    "df_user[\"item_15_a\"]=0\n",
    "df_user[\"item_16_a\"]=0\n",
    "df_user[\"item_17_a\"]=0\n",
    "df_user[\"item_18_a\"]=0"
   ]
  },
  {
   "cell_type": "code",
   "execution_count": 56,
   "metadata": {},
   "outputs": [
    {
     "output_type": "execute_result",
     "data": {
      "text/plain": "0"
     },
     "metadata": {},
     "execution_count": 56
    }
   ],
   "source": [
    "df_user.item_10_a[1249]"
   ]
  },
  {
   "cell_type": "code",
   "execution_count": 7,
   "metadata": {},
   "outputs": [
    {
     "output_type": "execute_result",
     "data": {
      "text/plain": "'w6'"
     },
     "metadata": {},
     "execution_count": 7
    }
   ],
   "source": [
    "z[1245][0]"
   ]
  },
  {
   "cell_type": "code",
   "execution_count": 8,
   "metadata": {},
   "outputs": [],
   "source": [
    "for i in range(1250):\n",
    "    df_user.item_0_a[i]=z[i][0]\n",
    "for i in range(1250):\n",
    "    df_user.item_1_a[i]=z[i][1]\n",
    "for i in range(1250):\n",
    "    df_user.item_2_a[i]=z[i][2]\n",
    "for i in range(1250):\n",
    "    df_user.item_3_a[i]=z[i][3]\n",
    "for i in range(1250):\n",
    "    df_user.item_4_a[i]=z[i][4]\n",
    "for i in range(1250):\n",
    "    df_user.item_5_a[i]=z[i][5]\n",
    "for i in range(1250):\n",
    "    df_user.item_6_a[i]=z[i][6]\n",
    "for i in range(1250):\n",
    "    df_user.item_7_a[i]=z[i][7]\n",
    "for i in range(1250):\n",
    "    df_user.item_8_a[i]=z[i][8]\n",
    "for i in range(1250):\n",
    "    df_user.item_9_a[i]=z[i][9]\n",
    "for i in range(1250):\n",
    "    df_user.item_10_a[i]=z[i][10]\n",
    "for i in range(1250):\n",
    "    df_user.item_11_a[i]=z[i][11]\n",
    "for i in range(1250):\n",
    "    df_user.item_12_a[i]=z[i][12]\n",
    "for i in range(1250):\n",
    "    df_user.item_13_a[i]=z[i][13]\n",
    "for i in range(1250):\n",
    "    df_user.item_14_a[i]=z[i][14]\n",
    "for i in range(1250):\n",
    "    df_user.item_15_a[i]=z[i][15]\n",
    "for i in range(1250):\n",
    "    df_user.item_16_a[i]=z[i][16]\n",
    "for i in range(1250):\n",
    "    df_user.item_17_a[i]=z[i][17]\n",
    "for i in range(1250):\n",
    "    df_user.item_18_a[i]=z[i][18]"
   ]
  },
  {
   "cell_type": "code",
   "execution_count": 9,
   "metadata": {},
   "outputs": [],
   "source": [
    "df_user.to_csv(\"final_user.csv\")"
   ]
  },
  {
   "cell_type": "code",
   "execution_count": 10,
   "metadata": {},
   "outputs": [],
   "source": [
    "df_ware.to_csv(\"final_ware_house.csv\")"
   ]
  },
  {
   "cell_type": "code",
   "execution_count": 61,
   "metadata": {},
   "outputs": [],
   "source": [
    "useful=pd.read_csv(\"C:/Users/ravin/Documents/hashcode-drone-delivery/nadibey4.csv\")"
   ]
  },
  {
   "cell_type": "code",
   "execution_count": 76,
   "metadata": {},
   "outputs": [
    {
     "output_type": "execute_result",
     "data": {
      "text/plain": "'w6'"
     },
     "metadata": {},
     "execution_count": 76
    }
   ],
   "source": [
    "useful.loc[0][6]"
   ]
  },
  {
   "cell_type": "code",
   "execution_count": 106,
   "metadata": {},
   "outputs": [],
   "source": [
    "p=[]\n",
    "for i in range(1250):\n",
    "    p.append(useful.loc[i][9])"
   ]
  },
  {
   "cell_type": "code",
   "execution_count": 107,
   "metadata": {},
   "outputs": [],
   "source": [
    "df_user[\"ten\"]=0"
   ]
  },
  {
   "cell_type": "code",
   "execution_count": 99,
   "metadata": {},
   "outputs": [
    {
     "output_type": "execute_result",
     "data": {
      "text/plain": "'w2'"
     },
     "metadata": {},
     "execution_count": 99
    }
   ],
   "source": [
    "p[0]"
   ]
  },
  {
   "cell_type": "code",
   "execution_count": 108,
   "metadata": {},
   "outputs": [],
   "source": [
    "for i in range(1250):\n",
    "    df_user.ten[i]=p[i]"
   ]
  },
  {
   "cell_type": "code",
   "execution_count": 92,
   "metadata": {},
   "outputs": [],
   "source": [
    "df_user.to_csv(\"waste_1.csv\")"
   ]
  },
  {
   "cell_type": "code",
   "execution_count": 1,
   "metadata": {},
   "outputs": [],
   "source": [
    "import pandas as pd\n",
    "import numpy as np"
   ]
  },
  {
   "cell_type": "code",
   "execution_count": 2,
   "metadata": {},
   "outputs": [],
   "source": [
    "df_user=pd.read_csv(\"C:/Users/ravin/Documents/hashcode-drone-delivery/user_1.csv\")\n",
    "df_ware=pd.read_csv(\"C:/Users/ravin/Documents/hashcode-drone-delivery/ware_house.csv\")"
   ]
  },
  {
   "cell_type": "code",
   "execution_count": 3,
   "metadata": {},
   "outputs": [
    {
     "output_type": "execute_result",
     "data": {
      "text/plain": "Unnamed: 0       0\nitem0          226\nitem1          183\nitem2            6\nitem3          220\nitem4          299\nitem5          280\nitem6           12\nitem7           42\nitem8            0\nitem9            0\nitem10           0\nitem11           0\nitem12           0\nitem13           0\nitem14           0\nitem15           0\nitem16           0\nitem17           0\nitem18           0\nnum_weights      8\none             w9\ntwo             w4\nthree           w3\nfour            w5\nfive            w1\nsix             w7\nseven           w6\neight           w0\nnight           w2\nten             w8\nName: 0, dtype: object"
     },
     "metadata": {},
     "execution_count": 3
    }
   ],
   "source": [
    "d=df_user.loc[0]\n",
    "d"
   ]
  },
  {
   "cell_type": "code",
   "execution_count": 4,
   "metadata": {
    "tags": []
   },
   "outputs": [],
   "source": [
    "z=[]\n",
    "for l in range(1250):\n",
    " d=df_user.loc[l]\n",
    " q=[]\n",
    " for j in range(19):\n",
    "  k=d[j+1]\n",
    "  if j<d[20]:\n",
    "   for i in range(10):\n",
    "    s=21\n",
    "    a=d[i+s]\n",
    "    if a==\"w0\":\n",
    "        p=df_ware.w0[k]\n",
    "        if p!=0:\n",
    "            q.append(\"w0\")\n",
    "            df_ware.w0[k]=df_ware.w0[k]-1\n",
    "            break\n",
    "    if a==\"w1\":\n",
    "        p=df_ware.w1[k]\n",
    "        if p!=0:\n",
    "            q.append(\"w1\")\n",
    "            df_ware.w1[k]=df_ware.w1[k]-1\n",
    "            break\n",
    "    if a==\"w2\":\n",
    "        p=df_ware.w2[k]\n",
    "        if p!=0:\n",
    "            q.append(\"w2\")\n",
    "            df_ware.w2[k]=df_ware.w2[k]-1\n",
    "            break\n",
    "    if a==\"w3\":\n",
    "        p=df_ware.w3[k]\n",
    "        if p!=0:\n",
    "            q.append(\"w3\")\n",
    "            df_ware.w3[k]=df_ware.w3[k]-1\n",
    "            break\n",
    "    if a==\"w4\":\n",
    "        p=df_ware.w4[k]\n",
    "        if p!=0:\n",
    "            q.append(\"w4\")\n",
    "            df_ware.w4[k]=df_ware.w4[k]-1\n",
    "            break\n",
    "    if a==\"w5\":\n",
    "        p=df_ware.w5[k]\n",
    "        if p!=0:\n",
    "            q.append(\"w5\")\n",
    "            df_ware.w5[k]=df_ware.w5[k]-1\n",
    "            break\n",
    "    if a==\"w6\":\n",
    "        p=df_ware.w6[k]\n",
    "        if p!=0:\n",
    "            q.append(\"w6\")\n",
    "            df_ware.w6[k]=df_ware.w6[k]-1\n",
    "            break\n",
    "    if a==\"w7\":\n",
    "        p=df_ware.w7[k]\n",
    "        if p!=0:\n",
    "            q.append(\"w7\")\n",
    "            df_ware.w7[k]=df_ware.w7[k]-1\n",
    "            break\n",
    "    if a==\"w8\":\n",
    "        p=df_ware.w8[k]\n",
    "        if p!=0:\n",
    "            q.append(\"w8\")\n",
    "            df_ware.w8[k]=df_ware.w8[k]-1\n",
    "            break\n",
    "    if a==\"w9\":    \n",
    "        p=df_ware.w9[k]\n",
    "        if p!=0:\n",
    "            q.append(\"w9\")\n",
    "            df_ware.w9[k]=df_ware.w9[k]-1\n",
    "            break\n",
    "  else:\n",
    "      q.append(\"-\")\n",
    " z.append(q)"
   ]
  },
  {
   "cell_type": "code",
   "execution_count": 5,
   "metadata": {},
   "outputs": [
    {
     "output_type": "execute_result",
     "data": {
      "text/plain": "['w4',\n '-',\n '-',\n '-',\n '-',\n '-',\n '-',\n '-',\n '-',\n '-',\n '-',\n '-',\n '-',\n '-',\n '-',\n '-',\n '-',\n '-',\n '-']"
     },
     "metadata": {},
     "execution_count": 5
    }
   ],
   "source": [
    "z[1]"
   ]
  },
  {
   "cell_type": "code",
   "execution_count": 1,
   "metadata": {},
   "outputs": [],
   "source": [
    "import pandas as pd\n",
    "import numpy as np"
   ]
  },
  {
   "cell_type": "code",
   "execution_count": 2,
   "metadata": {},
   "outputs": [],
   "source": [
    "df_user=pd.read_csv(\"C:/Users/ravin/Documents/hashcode-drone-delivery/final_user.csv\")\n",
    "df_ware=pd.read_csv(\"C:/Users/ravin/Documents/hashcode-drone-delivery/final_ware_house.csv\")"
   ]
  },
  {
   "cell_type": "code",
   "execution_count": 49,
   "metadata": {},
   "outputs": [
    {
     "output_type": "execute_result",
     "data": {
      "text/plain": "Unnamed: 0        0\nUnnamed: 0.1      0\nitem0           226\nitem1           183\nitem2             6\nitem3           220\nitem4           299\nitem5           280\nitem6            12\nitem7            42\nitem8             0\nitem9             0\nitem10            0\nitem11            0\nitem12            0\nitem13            0\nitem14            0\nitem15            0\nitem16            0\nitem17            0\nitem18            0\nnum_weights       8\none              w9\ntwo              w4\nthree            w3\nfour             w5\nfive             w1\nsix              w7\nseven            w6\neight            w0\nnight            w2\nten              w8\nitem_0_a         w4\nitem_1_a         w5\nitem_2_a         w3\nitem_3_a         w7\nitem_4_a         w9\nitem_5_a         w9\nitem_6_a         w9\nitem_7_a         w9\nitem_8_a          -\nitem_9_a          -\nitem_10_a         -\nitem_11_a         -\nitem_12_a         -\nitem_13_a         -\nitem_14_a         -\nitem_15_a         -\nitem_16_a         -\nitem_17_a         -\nitem_18_a         -\nName: 0, dtype: object"
     },
     "metadata": {},
     "execution_count": 49
    }
   ],
   "source": [
    "d=df_user.loc[0]\n",
    "d"
   ]
  },
  {
   "cell_type": "code",
   "execution_count": 64,
   "metadata": {},
   "outputs": [],
   "source": [
    "f=[]\n",
    "for j in range(1250):\n",
    " e=[]\n",
    " b=[]\n",
    " d=df_user.loc[j]\n",
    " d0=0\n",
    " d1=0\n",
    " d2=0\n",
    " d3=0\n",
    " d4=0\n",
    " d5=0\n",
    " d6=0\n",
    " d7=0\n",
    " d8=0\n",
    " d9=0\n",
    " d10=0\n",
    " d11=0\n",
    " d12=0\n",
    " d13=0\n",
    " d14=0\n",
    " d15=0\n",
    " d16=0\n",
    " d17=0\n",
    " d18=0\n",
    " d19=0\n",
    " d20=0\n",
    " d21=0\n",
    " d22=0\n",
    " d23=0\n",
    " d24=0\n",
    " d25=0\n",
    " d26=0\n",
    " d27=0\n",
    " d28=0\n",
    " d29=0\n",
    " for i in range(d[21]):\n",
    "    a=[]\n",
    "    c=[]\n",
    "    if d[i+32]==\"w0\":\n",
    "        if d0<=200 and d0+df_ware.loc[d[i+2]][12]<=200:\n",
    "         a.append(\"0 L 0 \"+str(d[i+2])+\" 1\")\n",
    "         c.append(\"0 D \"+str(j)+\" \"+str(d[i+2])+\" 1\")\n",
    "         d0+=df_ware.loc[d[i+2]][12]\n",
    "        elif d10<=200 and d10+df_ware.loc[d[i+2]][12]<=200:\n",
    "         a.append(\"10 L 0 \"+str(d[i+2])+\" 1\")\n",
    "         c.append(\"10 D \"+str(j)+\" \"+str(d[i+2])+\" 1\")\n",
    "         d10+=df_ware.loc[d[i+2]][12]\n",
    "        elif d20<=200 and d20+df_ware.loc[d[i+2]][12]<=200:\n",
    "         a.append(\"20 L 0 \"+str(d[i+2])+\" 1\")\n",
    "         c.append(\"20 D \"+str(j)+\" \"+str(d[i+2])+\" 1\")\n",
    "         d20+=df_ware.loc[d[i+2]][12]\n",
    "        else:\n",
    "            a.append(\"check\")\n",
    "    if d[i+32]==\"w1\":\n",
    "        if d1<=200 and d1+df_ware.loc[d[i+2]][12]<=200:\n",
    "         a.append(\"1 L 1 \"+str(d[i+2])+\" 1\")\n",
    "         c.append(\"1 D \"+str(j)+\" \"+str(d[i+2])+\" 1\")\n",
    "         d1+=df_ware.loc[d[i+2]][12]\n",
    "        elif d11<=200 and d11+df_ware.loc[d[i+2]][12]<=200:\n",
    "         a.append(\"11 L 1 \"+str(d[i+2])+\" 1\")\n",
    "         c.append(\"11 D \"+str(j)+\" \"+str(d[i+2])+\" 1\")\n",
    "         d11+=df_ware.loc[d[i+2]][12]\n",
    "        elif  d21<=200 and d21+df_ware.loc[d[i+2]][12]<=200:\n",
    "         a.append(\"21 L 1 \"+str(d[i+2])+\" 1\")\n",
    "         c.append(\"21 D \"+str(j)+\" \"+str(d[i+2])+\" 1\")\n",
    "         d21+=df_ware.loc[d[i+2]][12]\n",
    "        else:\n",
    "            a.append(\"check\")\n",
    "    if d[i+32]==\"w2\":\n",
    "        if d2<=200 and d2+df_ware.loc[d[i+2]][12]<=200:\n",
    "         a.append(\"2 L 2 \"+str(d[i+2])+\" 1\")\n",
    "         c.append(\"2 D \"+str(j)+\" \"+str(d[i+2])+\" 1\")\n",
    "         d2+=df_ware.loc[d[i+2]][12]\n",
    "        elif  d12<=200 and d12+df_ware.loc[d[i+2]][12]<=200:\n",
    "         a.append(\"12 L 2 \"+str(d[i+2])+\" 1\")\n",
    "         c.append(\"12 D \"+str(j)+\" \"+str(d[i+2])+\" 1\")\n",
    "         d12+=df_ware.loc[d[i+2]][12]\n",
    "        elif  d22<=200 and d22+df_ware.loc[d[i+2]][12]<=200:\n",
    "         a.append(\"22 L 2 \"+str(d[i+2])+\" 1\")\n",
    "         d22+=df_ware.loc[d[i+2]][12]\n",
    "         c.append(\"22 D \"+str(j)+\" \"+str(d[i+2])+\" 1\")\n",
    "        else:\n",
    "            a.append(\"check\")\n",
    "    if d[i+32]==\"w3\":\n",
    "        if d3<=200 and d3+df_ware.loc[d[i+2]][12]<=200:\n",
    "         a.append(\"3 L 3 \"+str(d[i+2])+\" 1\")\n",
    "         d3+=df_ware.loc[d[i+2]][12]\n",
    "         c.append(\"3 D \"+str(j)+\" \"+str(d[i+2])+\" 1\")\n",
    "        elif d13<=200 and d13+df_ware.loc[d[i+2]][12]<=200:\n",
    "         a.append(\"13 L 3 \"+str(d[i+2])+\" 1\")\n",
    "         d13+=df_ware.loc[d[i+2]][12]\n",
    "         c.append(\"13 D \"+str(j)+\" \"+str(d[i+2])+\" 1\")\n",
    "        elif d23<=200 and d23+df_ware.loc[d[i+2]][12]<=200:\n",
    "         a.append(\"23 L 3 \"+str(d[i+2])+\" 1\")\n",
    "         d23+=df_ware.loc[d[i+2]][12]\n",
    "         c.append(\"23 D \"+str(j)+\" \"+str(d[i+2])+\" 1\")\n",
    "        else:\n",
    "            a.append(\"check\")\n",
    "    if d[i+32]==\"w4\":\n",
    "        if d4<=200 and d4+df_ware.loc[d[i+2]][12]<=200:\n",
    "         a.append(\"4 L 4 \"+str(d[i+2])+\" 1\")\n",
    "         c.append(\"4 D \"+str(j)+\" \"+str(d[i+2])+\" 1\")\n",
    "         d4+=df_ware.loc[d[i+2]][12]\n",
    "        elif d14<=200 and d14+df_ware.loc[d[i+2]][12]<=200:\n",
    "         a.append(\"14 L 4 \"+str(d[i+2])+\" 1\")\n",
    "         c.append(\"14 D \"+str(j)+\" \"+str(d[i+2])+\" 1\")\n",
    "         d14+=df_ware.loc[d[i+2]][12]\n",
    "        elif d24<=200 and d24+df_ware.loc[d[i+2]][12]<=200:\n",
    "         a.append(\"24 L 4 \"+str(d[i+2])+\" 1\")\n",
    "         c.append(\"24 D \"+str(j)+\" \"+str(d[i+2])+\" 1\")\n",
    "         d24+=df_ware.loc[d[i+2]][12]\n",
    "        else:\n",
    "            a.append(\"check\")\n",
    "    if d[i+32]==\"w5\":\n",
    "        if d5<=200 and d5+df_ware.loc[d[i+2]][12]<=200:\n",
    "         a.append(\"5 L 5 \"+str(d[i+2])+\" 1\")\n",
    "         c.append(\"5 D \"+str(j)+\" \"+str(d[i+2])+\" 1\")\n",
    "         d5+=df_ware.loc[d[i+2]][12]\n",
    "        elif d15<=200 and d15+df_ware.loc[d[i+2]][12]<=200:\n",
    "         a.append(\"15 L 5 \"+str(d[i+2])+\" 1\")\n",
    "         c.append(\"15 D \"+str(j)+\" \"+str(d[i+2])+\" 1\")\n",
    "         d15+=df_ware.loc[d[i+2]][12]\n",
    "        elif  d25<=200 and d25+df_ware.loc[d[i+2]][12]<=200:\n",
    "         a.append(\"25 L 5 \"+str(d[i+2])+\" 1\")\n",
    "         c.append(\"25 D \"+str(j)+\" \"+str(d[i+2])+\" 1\")\n",
    "         d25+=df_ware.loc[d[i+2]][12]\n",
    "        else:\n",
    "            a.append(\"check\")\n",
    "    if d[i+32]==\"w6\":\n",
    "        if d6<=200 and d6+df_ware.loc[d[i+2]][12]<=200:\n",
    "         a.append(\"6 L 6 \"+str(d[i+2])+\" 1\")\n",
    "         c.append(\"6 D \"+str(j)+\" \"+str(d[i+2])+\" 1\")\n",
    "         d6+=df_ware.loc[d[i+2]][12]\n",
    "        elif d16<=200 and d16+df_ware.loc[d[i+2]][12]<=200:\n",
    "         a.append(\"16 L 6 \"+str(d[i+2])+\" 1\")\n",
    "         c.append(\"16 D \"+str(j)+\" \"+str(d[i+2])+\" 1\")\n",
    "         d16+=df_ware.loc[d[i+2]][12]\n",
    "        elif d26<=200 and d26+df_ware.loc[d[i+2]][12]<=200:\n",
    "         a.append(\"26 L 6 \"+str(d[i+2])+\" 1\")\n",
    "         c.append(\"26 D \"+str(j)+\" \"+str(d[i+2])+\" 1\")\n",
    "         d26+=df_ware.loc[d[i+2]][12]\n",
    "        else:\n",
    "            a.append(\"check\")\n",
    "    if d[i+32]==\"w7\":\n",
    "        if d7<=200 and d7+df_ware.loc[d[i+2]][12]<=200:\n",
    "         a.append(\"7 L 7 \"+str(d[i+2])+\" 1\")\n",
    "         c.append(\"7 D \"+str(j)+\" \"+str(d[i+2])+\" 1\")\n",
    "         d7+=df_ware.loc[d[i+2]][12]\n",
    "        elif d17<=200 and d17+df_ware.loc[d[i+2]][12]<=200:\n",
    "         a.append(\"17 L 7 \"+str(d[i+2])+\" 1\")\n",
    "         c.append(\"17 D \"+str(j)+\" \"+str(d[i+2])+\" 1\")\n",
    "         d17+=df_ware.loc[d[i+2]][12]\n",
    "        elif d27<=200 and d27+df_ware.loc[d[i+2]][12]<=200:\n",
    "         a.append(\"17 L 7 \"+str(d[i+2])+\" 1\")\n",
    "         c.append(\"27 D \"+str(j)+\" \"+str(d[i+2])+\" 1\")\n",
    "         d27+=df_ware.loc[d[i+2]][12]\n",
    "        else:\n",
    "            a.append(\"check\")\n",
    "    if d[i+32]==\"w8\":\n",
    "        if d8<=200 and d8+df_ware.loc[d[i+2]][12]<=200:\n",
    "         a.append(\"8 L 8 \"+str(d[i+2])+\" 1\")\n",
    "         c.append(\"8 D \"+str(j)+\" \"+str(d[i+2])+\" 1\")\n",
    "         d8+=df_ware.loc[d[i+2]][12]\n",
    "        elif  d18<=200 and d18+df_ware.loc[d[i+2]][12]<=200:\n",
    "         a.append(\"18 L 8 \"+str(d[i+2])+\" 1\")\n",
    "         c.append(\"18 D \"+str(j)+\" \"+str(d[i+2])+\" 1\")\n",
    "         d18+=df_ware.loc[d[i+2]][12]\n",
    "        elif  d28<=200 and d28+df_ware.loc[d[i+2]][12]<=200:\n",
    "         a.append(\"28 L 8 \"+str(d[i+2])+\" 1\")\n",
    "         c.append(\"28 D \"+str(j)+\" \"+str(d[i+2])+\" 1\")\n",
    "         d28+=df_ware.loc[d[i+2]][12]\n",
    "        else:\n",
    "            a.append(\"check\")\n",
    "    if d[i+32]==\"w9\":\n",
    "        if d9<=200 and d9+df_ware.loc[d[i+2]][12]<=200:\n",
    "         a.append(\"9 L 9 \"+str(d[i+2])+\" 1\")\n",
    "         c.append(\"9 D \"+str(j)+\" \"+str(d[i+2])+\" 1\")\n",
    "         d9+=df_ware.loc[d[i+2]][12]\n",
    "        elif d19<=200 and d19+df_ware.loc[d[i+2]][12]<=200:\n",
    "         a.append(\"19 L 9 \"+str(d[i+2])+\" 1\")\n",
    "         c.append(\"19 D \"+str(j)+\" \"+str(d[i+2])+\" 1\")\n",
    "         d19+=df_ware.loc[d[i+2]][12]\n",
    "        elif d29<=200 and d29+df_ware.loc[d[i+2]][12]<=200:\n",
    "         a.append(\"29 L 9 \"+str(d[i+2])+\" 1\")\n",
    "         d29+=df_ware.loc[d[i+2]][12]\n",
    "         c.append(\"29 D \"+str(j)+\" \"+str(d[i+2])+\" 1\")\n",
    "        else:\n",
    "            a.append(\"check\")\n",
    "    b.append(a)\n",
    "    e.append(c)\n",
    " f.append(b)\n",
    " f.append(e)"
   ]
  },
  {
   "cell_type": "code",
   "execution_count": 119,
   "metadata": {},
   "outputs": [
    {
     "output_type": "execute_result",
     "data": {
      "text/plain": "['5 L 5 40 1']"
     },
     "metadata": {},
     "execution_count": 119
    }
   ],
   "source": [
    "f[2498][3]"
   ]
  },
  {
   "cell_type": "code",
   "execution_count": null,
   "metadata": {},
   "outputs": [],
   "source": []
  },
  {
   "cell_type": "code",
   "execution_count": 93,
   "metadata": {},
   "outputs": [],
   "source": [
    "l=pd.read_csv(\"C:/Users/ravin/Documents/hashcode-drone-delivery/useful.csv\")"
   ]
  },
  {
   "cell_type": "code",
   "execution_count": 94,
   "metadata": {},
   "outputs": [
    {
     "output_type": "execute_result",
     "data": {
      "text/plain": "0"
     },
     "metadata": {},
     "execution_count": 94
    }
   ],
   "source": [
    "l.index[0]"
   ]
  },
  {
   "cell_type": "code",
   "execution_count": 127,
   "metadata": {},
   "outputs": [
    {
     "output_type": "execute_result",
     "data": {
      "text/plain": "['4 D 1 163 1']"
     },
     "metadata": {},
     "execution_count": 127
    }
   ],
   "source": [
    "f[3][0]"
   ]
  },
  {
   "cell_type": "code",
   "execution_count": 133,
   "metadata": {},
   "outputs": [
    {
     "output_type": "execute_result",
     "data": {
      "text/plain": "1"
     },
     "metadata": {},
     "execution_count": 133
    }
   ],
   "source": [
    "df_user.loc[2//2][21]"
   ]
  },
  {
   "cell_type": "code",
   "execution_count": 134,
   "metadata": {
    "tags": []
   },
   "outputs": [
    {
     "output_type": "stream",
     "name": "stdout",
     "text": "0\n1\n2\n3\n4\n5\n6\n7\n8\n9\n10\n11\n12\n13\n14\n15\n16\n17\n18\n19\n20\n21\n22\n23\n24\n25\n26\n27\n28\n29\n30\n31\n32\n33\n34\n35\n36\n37\n38\n39\n40\n41\n42\n43\n44\n45\n46\n47\n48\n49\n50\n51\n52\n53\n54\n55\n56\n57\n58\n59\n60\n61\n62\n63\n64\n65\n66\n67\n68\n69\n70\n71\n72\n73\n74\n75\n76\n77\n78\n79\n80\n81\n82\n83\n84\n85\n86\n87\n88\n89\n90\n91\n92\n93\n94\n95\n96\n97\n98\n99\n100\n101\n102\n103\n104\n105\n106\n107\n108\n109\n110\n111\n112\n113\n114\n115\n116\n117\n118\n119\n120\n121\n122\n123\n124\n125\n126\n127\n128\n129\n130\n131\n132\n133\n134\n135\n136\n137\n138\n139\n140\n141\n142\n143\n144\n145\n146\n147\n148\n149\n150\n151\n152\n153\n154\n155\n156\n157\n158\n159\n160\n161\n162\n163\n164\n165\n166\n167\n168\n169\n170\n171\n172\n173\n174\n175\n176\n177\n178\n179\n180\n181\n182\n183\n184\n185\n186\n187\n188\n189\n190\n191\n192\n193\n194\n195\n196\n197\n198\n199\n200\n201\n202\n203\n204\n205\n206\n207\n208\n209\n210\n211\n212\n213\n214\n215\n216\n217\n218\n219\n220\n221\n222\n223\n224\n225\n226\n227\n228\n229\n230\n231\n232\n233\n234\n235\n236\n237\n238\n239\n240\n241\n242\n243\n244\n245\n246\n247\n248\n249\n250\n251\n252\n253\n254\n255\n256\n257\n258\n259\n260\n261\n262\n263\n264\n265\n266\n267\n268\n269\n270\n271\n272\n273\n274\n275\n276\n277\n278\n279\n280\n281\n282\n283\n284\n285\n286\n287\n288\n289\n290\n291\n292\n293\n294\n295\n296\n297\n298\n299\n300\n301\n302\n303\n304\n305\n306\n307\n308\n309\n310\n311\n312\n313\n314\n315\n316\n317\n318\n319\n320\n321\n322\n323\n324\n325\n326\n327\n328\n329\n330\n331\n332\n333\n334\n335\n336\n337\n338\n339\n340\n341\n342\n343\n344\n345\n346\n347\n348\n349\n350\n351\n352\n353\n354\n355\n356\n357\n358\n359\n360\n361\n362\n363\n364\n365\n366\n367\n368\n369\n370\n371\n372\n373\n374\n375\n376\n377\n378\n379\n380\n381\n382\n383\n384\n385\n386\n387\n388\n389\n390\n391\n392\n393\n394\n395\n396\n397\n398\n399\n400\n401\n402\n403\n404\n405\n406\n407\n408\n409\n410\n411\n412\n413\n414\n415\n416\n417\n418\n419\n420\n421\n422\n423\n424\n425\n426\n427\n428\n429\n430\n431\n432\n433\n434\n435\n436\n437\n438\n439\n440\n441\n442\n443\n444\n445\n446\n447\n448\n449\n450\n451\n452\n453\n454\n455\n456\n457\n458\n459\n460\n461\n462\n463\n464\n465\n466\n467\n468\n469\n470\n471\n472\n473\n474\n475\n476\n477\n478\n479\n480\n481\n482\n483\n484\n485\n486\n487\n488\n489\n490\n491\n492\n493\n494\n495\n496\n497\n498\n499\n500\n501\n502\n503\n504\n505\n506\n507\n508\n509\n510\n511\n512\n513\n514\n515\n516\n517\n518\n519\n520\n521\n522\n523\n524\n525\n526\n527\n528\n529\n530\n531\n532\n533\n534\n535\n536\n537\n538\n539\n540\n541\n542\n543\n544\n545\n546\n547\n548\n549\n550\n551\n552\n553\n554\n555\n556\n557\n558\n559\n560\n561\n562\n563\n564\n565\n566\n567\n568\n569\n570\n571\n572\n573\n574\n575\n576\n577\n578\n579\n580\n581\n582\n583\n584\n585\n586\n587\n588\n589\n590\n591\n592\n593\n594\n595\n596\n597\n598\n599\n600\n601\n602\n603\n604\n605\n606\n607\n608\n609\n610\n611\n612\n613\n614\n615\n616\n617\n618\n619\n620\n621\n622\n623\n624\n625\n626\n627\n628\n629\n630\n631\n632\n633\n634\n635\n636\n637\n638\n639\n640\n641\n642\n643\n644\n645\n646\n647\n648\n649\n650\n651\n652\n653\n654\n655\n656\n657\n658\n659\n660\n661\n662\n663\n664\n665\n666\n667\n668\n669\n670\n671\n672\n673\n674\n675\n676\n677\n678\n679\n680\n681\n682\n683\n684\n685\n686\n687\n688\n689\n690\n691\n692\n693\n694\n695\n696\n697\n698\n699\n700\n701\n702\n703\n704\n705\n706\n707\n708\n709\n710\n711\n712\n713\n714\n715\n716\n717\n718\n719\n720\n721\n722\n723\n724\n725\n726\n727\n728\n729\n730\n731\n732\n733\n734\n735\n736\n737\n738\n739\n740\n741\n742\n743\n744\n745\n746\n747\n748\n749\n750\n751\n752\n753\n754\n755\n756\n757\n758\n759\n760\n761\n762\n763\n764\n765\n766\n767\n768\n769\n770\n771\n772\n773\n774\n775\n776\n777\n778\n779\n780\n781\n782\n783\n784\n785\n786\n787\n788\n789\n790\n791\n792\n793\n794\n795\n796\n797\n798\n799\n800\n801\n802\n803\n804\n805\n806\n807\n808\n809\n810\n811\n812\n813\n814\n815\n816\n817\n818\n819\n820\n821\n822\n823\n824\n825\n826\n827\n828\n829\n830\n831\n832\n833\n834\n835\n836\n837\n838\n839\n840\n841\n842\n843\n844\n845\n846\n847\n848\n849\n850\n851\n852\n853\n854\n855\n856\n857\n858\n859\n860\n861\n862\n863\n864\n865\n866\n867\n868\n869\n870\n871\n872\n873\n874\n875\n876\n877\n878\n879\n880\n881\n882\n883\n884\n885\n886\n887\n888\n889\n890\n891\n892\n893\n894\n895\n896\n897\n898\n899\n900\n901\n902\n903\n904\n905\n906\n907\n908\n909\n910\n911\n912\n913\n914\n915\n916\n917\n918\n919\n920\n921\n922\n923\n924\n925\n926\n927\n928\n929\n930\n931\n932\n933\n934\n935\n936\n937\n938\n939\n940\n941\n942\n943\n944\n945\n946\n947\n948\n949\n950\n951\n952\n953\n954\n955\n956\n957\n958\n959\n960\n961\n962\n963\n964\n965\n966\n967\n968\n969\n970\n971\n972\n973\n974\n975\n976\n977\n978\n979\n980\n981\n982\n983\n984\n985\n986\n987\n988\n989\n990\n991\n992\n993\n994\n995\n996\n997\n998\n999\n1000\n1001\n1002\n1003\n1004\n1005\n1006\n1007\n1008\n1009\n1010\n1011\n1012\n1013\n1014\n1015\n1016\n1017\n1018\n1019\n1020\n1021\n1022\n1023\n1024\n1025\n1026\n1027\n1028\n1029\n1030\n1031\n1032\n1033\n1034\n1035\n1036\n1037\n1038\n1039\n1040\n1041\n1042\n1043\n1044\n1045\n1046\n1047\n1048\n1049\n1050\n1051\n1052\n1053\n1054\n1055\n1056\n1057\n1058\n1059\n1060\n1061\n1062\n1063\n1064\n1065\n1066\n1067\n1068\n1069\n1070\n1071\n1072\n1073\n1074\n1075\n1076\n1077\n1078\n1079\n1080\n1081\n1082\n1083\n1084\n1085\n1086\n1087\n1088\n1089\n1090\n1091\n1092\n1093\n1094\n1095\n1096\n1097\n1098\n1099\n1100\n1101\n1102\n1103\n1104\n1105\n1106\n1107\n1108\n1109\n1110\n1111\n1112\n1113\n1114\n1115\n1116\n1117\n1118\n1119\n1120\n1121\n1122\n1123\n1124\n1125\n1126\n1127\n1128\n1129\n1130\n1131\n1132\n1133\n1134\n1135\n1136\n1137\n1138\n1139\n1140\n1141\n1142\n1143\n1144\n1145\n1146\n1147\n1148\n1149\n1150\n1151\n1152\n1153\n1154\n1155\n1156\n1157\n1158\n1159\n1160\n1161\n1162\n1163\n1164\n1165\n1166\n1167\n1168\n1169\n1170\n1171\n1172\n1173\n1174\n1175\n1176\n1177\n1178\n1179\n1180\n1181\n1182\n1183\n1184\n1185\n1186\n1187\n1188\n1189\n1190\n1191\n1192\n1193\n1194\n1195\n1196\n1197\n1198\n1199\n1200\n1201\n1202\n1203\n1204\n1205\n1206\n1207\n1208\n1209\n1210\n1211\n1212\n1213\n1214\n1215\n1216\n1217\n1218\n1219\n1220\n1221\n1222\n1223\n1224\n1225\n1226\n1227\n1228\n1229\n1230\n1231\n1232\n1233\n1234\n1235\n1236\n1237\n1238\n1239\n1240\n1241\n1242\n1243\n1244\n1245\n1246\n1247\n1248\n1249\n1250\n1251\n1252\n1253\n1254\n1255\n1256\n1257\n1258\n1259\n1260\n1261\n1262\n1263\n1264\n1265\n1266\n1267\n1268\n1269\n1270\n1271\n1272\n1273\n1274\n1275\n1276\n1277\n1278\n1279\n1280\n1281\n1282\n1283\n1284\n1285\n1286\n1287\n1288\n1289\n1290\n1291\n1292\n1293\n1294\n1295\n1296\n1297\n1298\n1299\n1300\n1301\n1302\n1303\n1304\n1305\n1306\n1307\n1308\n1309\n1310\n1311\n1312\n1313\n1314\n1315\n1316\n1317\n1318\n1319\n1320\n1321\n1322\n1323\n1324\n1325\n1326\n1327\n1328\n1329\n1330\n1331\n1332\n1333\n1334\n1335\n1336\n1337\n1338\n1339\n1340\n1341\n1342\n1343\n1344\n1345\n1346\n1347\n1348\n1349\n1350\n1351\n1352\n1353\n1354\n1355\n1356\n1357\n1358\n1359\n1360\n1361\n1362\n1363\n1364\n1365\n1366\n1367\n1368\n1369\n1370\n1371\n1372\n1373\n1374\n1375\n1376\n1377\n1378\n1379\n1380\n1381\n1382\n1383\n1384\n1385\n1386\n1387\n1388\n1389\n1390\n1391\n1392\n1393\n1394\n1395\n1396\n1397\n1398\n1399\n1400\n1401\n1402\n1403\n1404\n1405\n1406\n1407\n1408\n1409\n1410\n1411\n1412\n1413\n1414\n1415\n1416\n1417\n1418\n1419\n1420\n1421\n1422\n1423\n1424\n1425\n1426\n1427\n1428\n1429\n1430\n1431\n1432\n1433\n1434\n1435\n1436\n1437\n1438\n1439\n1440\n1441\n1442\n1443\n1444\n1445\n1446\n1447\n1448\n1449\n1450\n1451\n1452\n1453\n1454\n1455\n1456\n1457\n1458\n1459\n1460\n1461\n1462\n1463\n1464\n1465\n1466\n1467\n1468\n1469\n1470\n1471\n1472\n1473\n1474\n1475\n1476\n1477\n1478\n1479\n1480\n1481\n1482\n1483\n1484\n1485\n1486\n1487\n1488\n1489\n1490\n1491\n1492\n1493\n1494\n1495\n1496\n1497\n1498\n1499\n1500\n1501\n1502\n1503\n1504\n1505\n1506\n1507\n1508\n1509\n1510\n1511\n1512\n1513\n1514\n1515\n1516\n1517\n1518\n1519\n1520\n1521\n1522\n1523\n1524\n1525\n1526\n1527\n1528\n1529\n1530\n1531\n1532\n1533\n1534\n1535\n1536\n1537\n1538\n1539\n1540\n1541\n1542\n1543\n1544\n1545\n1546\n1547\n1548\n1549\n1550\n1551\n1552\n1553\n1554\n1555\n1556\n1557\n1558\n1559\n1560\n1561\n1562\n1563\n1564\n1565\n1566\n1567\n1568\n1569\n1570\n1571\n1572\n1573\n1574\n1575\n1576\n1577\n1578\n1579\n1580\n1581\n1582\n1583\n1584\n1585\n1586\n1587\n1588\n1589\n1590\n1591\n1592\n1593\n1594\n1595\n1596\n1597\n1598\n1599\n1600\n1601\n1602\n1603\n1604\n1605\n1606\n1607\n1608\n1609\n1610\n1611\n1612\n1613\n1614\n1615\n1616\n1617\n1618\n1619\n1620\n1621\n1622\n1623\n1624\n1625\n1626\n1627\n1628\n1629\n1630\n1631\n1632\n1633\n1634\n1635\n1636\n1637\n1638\n1639\n1640\n1641\n1642\n1643\n1644\n1645\n1646\n1647\n1648\n1649\n1650\n1651\n1652\n1653\n1654\n1655\n1656\n1657\n1658\n1659\n1660\n1661\n1662\n1663\n1664\n1665\n1666\n1667\n1668\n1669\n1670\n1671\n1672\n1673\n1674\n1675\n1676\n1677\n1678\n1679\n1680\n1681\n1682\n1683\n1684\n1685\n1686\n1687\n1688\n1689\n1690\n1691\n1692\n1693\n1694\n1695\n1696\n1697\n1698\n1699\n1700\n1701\n1702\n1703\n1704\n1705\n1706\n1707\n1708\n1709\n1710\n1711\n1712\n1713\n1714\n1715\n1716\n1717\n1718\n1719\n1720\n1721\n1722\n1723\n1724\n1725\n1726\n1727\n1728\n1729\n1730\n1731\n1732\n1733\n1734\n1735\n1736\n1737\n1738\n1739\n1740\n1741\n1742\n1743\n1744\n1745\n1746\n1747\n1748\n1749\n1750\n1751\n1752\n1753\n1754\n1755\n1756\n1757\n1758\n1759\n1760\n1761\n1762\n1763\n1764\n1765\n1766\n1767\n1768\n1769\n1770\n1771\n1772\n1773\n1774\n1775\n1776\n1777\n1778\n1779\n1780\n1781\n1782\n1783\n1784\n1785\n1786\n1787\n1788\n1789\n1790\n1791\n1792\n1793\n1794\n1795\n1796\n1797\n1798\n1799\n1800\n1801\n1802\n1803\n1804\n1805\n1806\n1807\n1808\n1809\n1810\n1811\n1812\n1813\n1814\n1815\n1816\n1817\n1818\n1819\n1820\n1821\n1822\n1823\n1824\n1825\n1826\n1827\n1828\n1829\n1830\n1831\n1832\n1833\n1834\n1835\n1836\n1837\n1838\n1839\n1840\n1841\n1842\n1843\n1844\n1845\n1846\n1847\n1848\n1849\n1850\n1851\n1852\n1853\n1854\n1855\n1856\n1857\n1858\n1859\n1860\n1861\n1862\n1863\n1864\n1865\n1866\n1867\n1868\n1869\n1870\n1871\n1872\n1873\n1874\n1875\n1876\n1877\n1878\n1879\n1880\n1881\n1882\n1883\n1884\n1885\n1886\n1887\n1888\n1889\n1890\n1891\n1892\n1893\n1894\n1895\n1896\n1897\n1898\n1899\n1900\n1901\n1902\n1903\n1904\n1905\n1906\n1907\n1908\n1909\n1910\n1911\n1912\n1913\n1914\n1915\n1916\n1917\n1918\n1919\n1920\n1921\n1922\n1923\n1924\n1925\n1926\n1927\n1928\n1929\n1930\n1931\n1932\n1933\n1934\n1935\n1936\n1937\n1938\n1939\n1940\n1941\n1942\n1943\n1944\n1945\n1946\n1947\n1948\n1949\n1950\n1951\n1952\n1953\n1954\n1955\n1956\n1957\n1958\n1959\n1960\n1961\n1962\n1963\n1964\n1965\n1966\n1967\n1968\n1969\n1970\n1971\n1972\n1973\n1974\n1975\n1976\n1977\n1978\n1979\n1980\n1981\n1982\n1983\n1984\n1985\n1986\n1987\n1988\n1989\n1990\n1991\n1992\n1993\n1994\n1995\n1996\n1997\n1998\n1999\n2000\n2001\n2002\n2003\n2004\n2005\n2006\n2007\n2008\n2009\n2010\n2011\n2012\n2013\n2014\n2015\n2016\n2017\n2018\n2019\n2020\n2021\n2022\n2023\n2024\n2025\n2026\n2027\n2028\n2029\n2030\n2031\n2032\n2033\n2034\n2035\n2036\n2037\n2038\n2039\n2040\n2041\n2042\n2043\n2044\n2045\n2046\n2047\n2048\n2049\n2050\n2051\n2052\n2053\n2054\n2055\n2056\n2057\n2058\n2059\n2060\n2061\n2062\n2063\n2064\n2065\n2066\n2067\n2068\n2069\n2070\n2071\n2072\n2073\n2074\n2075\n2076\n2077\n2078\n2079\n2080\n2081\n2082\n2083\n2084\n2085\n2086\n2087\n2088\n2089\n2090\n2091\n2092\n2093\n2094\n2095\n2096\n2097\n2098\n2099\n2100\n2101\n2102\n2103\n2104\n2105\n2106\n2107\n2108\n2109\n2110\n2111\n2112\n2113\n2114\n2115\n2116\n2117\n2118\n2119\n2120\n2121\n2122\n2123\n2124\n2125\n2126\n2127\n2128\n2129\n2130\n2131\n2132\n2133\n2134\n2135\n2136\n2137\n2138\n2139\n2140\n2141\n2142\n2143\n2144\n2145\n2146\n2147\n2148\n2149\n2150\n2151\n2152\n2153\n2154\n2155\n2156\n2157\n2158\n2159\n2160\n2161\n2162\n2163\n2164\n2165\n2166\n2167\n2168\n2169\n2170\n2171\n2172\n2173\n2174\n2175\n2176\n2177\n2178\n2179\n2180\n2181\n2182\n2183\n2184\n2185\n2186\n2187\n2188\n2189\n2190\n2191\n2192\n2193\n2194\n2195\n2196\n2197\n2198\n2199\n2200\n2201\n2202\n2203\n2204\n2205\n2206\n2207\n2208\n2209\n2210\n2211\n2212\n2213\n2214\n2215\n2216\n2217\n2218\n2219\n2220\n2221\n2222\n2223\n2224\n2225\n2226\n2227\n2228\n2229\n2230\n2231\n2232\n2233\n2234\n2235\n2236\n2237\n2238\n2239\n2240\n2241\n2242\n2243\n2244\n2245\n2246\n2247\n2248\n2249\n2250\n2251\n2252\n2253\n2254\n2255\n2256\n2257\n2258\n2259\n2260\n2261\n2262\n2263\n2264\n2265\n2266\n2267\n2268\n2269\n2270\n2271\n2272\n2273\n2274\n2275\n2276\n2277\n2278\n2279\n2280\n2281\n2282\n2283\n2284\n2285\n2286\n2287\n2288\n2289\n2290\n2291\n2292\n2293\n2294\n2295\n2296\n2297\n2298\n2299\n2300\n2301\n2302\n2303\n2304\n2305\n2306\n2307\n2308\n2309\n2310\n2311\n2312\n2313\n2314\n2315\n2316\n2317\n2318\n2319\n2320\n2321\n2322\n2323\n2324\n2325\n2326\n2327\n2328\n2329\n2330\n2331\n2332\n2333\n2334\n2335\n2336\n2337\n2338\n2339\n2340\n2341\n2342\n2343\n2344\n2345\n2346\n2347\n2348\n2349\n2350\n2351\n2352\n2353\n2354\n2355\n2356\n2357\n2358\n2359\n2360\n2361\n2362\n2363\n2364\n2365\n2366\n2367\n2368\n2369\n2370\n2371\n2372\n2373\n2374\n2375\n2376\n2377\n2378\n2379\n2380\n2381\n2382\n2383\n2384\n2385\n2386\n2387\n2388\n2389\n2390\n2391\n2392\n2393\n2394\n2395\n2396\n2397\n2398\n2399\n2400\n2401\n2402\n2403\n2404\n2405\n2406\n2407\n2408\n2409\n2410\n2411\n2412\n2413\n2414\n2415\n2416\n2417\n2418\n2419\n2420\n2421\n2422\n2423\n2424\n2425\n2426\n2427\n2428\n2429\n2430\n2431\n2432\n2433\n2434\n2435\n2436\n2437\n2438\n2439\n2440\n2441\n2442\n2443\n2444\n2445\n2446\n2447\n2448\n2449\n2450\n2451\n2452\n2453\n2454\n2455\n2456\n2457\n2458\n2459\n2460\n2461\n2462\n2463\n2464\n2465\n2466\n2467\n2468\n2469\n2470\n2471\n2472\n2473\n2474\n2475\n2476\n2477\n2478\n2479\n2480\n2481\n2482\n2483\n2484\n2485\n2486\n2487\n2488\n2489\n2490\n2491\n2492\n2493\n2494\n2495\n2496\n2497\n"
    }
   ],
   "source": [
    "kl=[]\n",
    "for i in range(2498):\n",
    "     if (i%2)==0:\n",
    "       d=df_user.loc[i//2]\n",
    "     print(i)\n",
    "     for j in range(d[21]):\n",
    "       kl.append(f[i][j])\n",
    "   "
   ]
  },
  {
   "cell_type": "code",
   "execution_count": 122,
   "metadata": {
    "tags": []
   },
   "outputs": [
    {
     "output_type": "stream",
     "name": "stdout",
     "text": "0\n"
    }
   ],
   "source": [
    "j=2\n",
    "print(j%2)"
   ]
  },
  {
   "cell_type": "code",
   "execution_count": 136,
   "metadata": {},
   "outputs": [
    {
     "output_type": "execute_result",
     "data": {
      "text/plain": "0    1\nName: 0, dtype: int64"
     },
     "metadata": {},
     "execution_count": 136
    }
   ],
   "source": [
    "mn.loc[0]"
   ]
  },
  {
   "cell_type": "code",
   "execution_count": 137,
   "metadata": {},
   "outputs": [
    {
     "output_type": "execute_result",
     "data": {
      "text/plain": "18728"
     },
     "metadata": {},
     "execution_count": 137
    }
   ],
   "source": [
    "len(kl)"
   ]
  },
  {
   "cell_type": "code",
   "execution_count": 139,
   "metadata": {},
   "outputs": [
    {
     "output_type": "execute_result",
     "data": {
      "text/plain": "['9 L 9 299 1']"
     },
     "metadata": {},
     "execution_count": 139
    }
   ],
   "source": [
    "kl[4]"
   ]
  },
  {
   "cell_type": "code",
   "execution_count": 147,
   "metadata": {},
   "outputs": [
    {
     "output_type": "execute_result",
     "data": {
      "text/plain": "'4 L 4 226 1'"
     },
     "metadata": {},
     "execution_count": 147
    }
   ],
   "source": [
    "mn.loc[0][0]"
   ]
  },
  {
   "cell_type": "code",
   "execution_count": 148,
   "metadata": {},
   "outputs": [],
   "source": [
    "for i in range(18728):\n",
    "    mn.loc[i][0]=kl[i]"
   ]
  },
  {
   "cell_type": "code",
   "execution_count": 149,
   "metadata": {},
   "outputs": [],
   "source": [
    "mn.to_csv(\"submission_.csv\")"
   ]
  },
  {
   "cell_type": "code",
   "execution_count": null,
   "metadata": {},
   "outputs": [],
   "source": []
  }
 ]
}